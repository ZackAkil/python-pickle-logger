{
  "nbformat": 4,
  "nbformat_minor": 0,
  "metadata": {
    "colab": {
      "provenance": [],
      "authorship_tag": "ABX9TyOI0LcNNbywp78/64fUW6Fj",
      "include_colab_link": true
    },
    "kernelspec": {
      "name": "python3",
      "display_name": "Python 3"
    },
    "language_info": {
      "name": "python"
    }
  },
  "cells": [
    {
      "cell_type": "markdown",
      "metadata": {
        "id": "view-in-github",
        "colab_type": "text"
      },
      "source": [
        "<a href=\"https://colab.research.google.com/github/ZackAkil/python-pickle-logger/blob/main/Python_Pickle_Logger_%F0%9F%A5%92_%F0%9F%AA%B5.ipynb\" target=\"_parent\"><img src=\"https://colab.research.google.com/assets/colab-badge.svg\" alt=\"Open In Colab\"/></a>"
      ]
    },
    {
      "cell_type": "code",
      "source": [
        "import os\n",
        "import datetime\n",
        "import pickle\n",
        "\n",
        "from functools import wraps\n",
        "\n",
        "SAVE_FOLDER = 'pickle_capture'\n",
        "\n",
        "if not os.path.exists(SAVE_FOLDER):\n",
        "    os.makedirs(SAVE_FOLDER)\n",
        "\n",
        "def pickle_log(func):\n",
        "\n",
        "    \"\"\"Pickle logs a function call.\n",
        "\n",
        "    This decorator pickles the function's arguments and keyword arguments to a file.\n",
        "    This can be useful for debugging and generating tests.\n",
        "\n",
        "    Args:\n",
        "      func: The function to decorate.\n",
        "\n",
        "    Returns:\n",
        "      A decorated function that pickles its arguments and keyword arguments to a file before calling the original function.\n",
        "    \"\"\"\n",
        "\n",
        "    @wraps(func)\n",
        "    def wrapper(*args, **kwargs):\n",
        "\n",
        "        start_time = datetime.datetime.now()\n",
        "        # create the id of pickle log\n",
        "        function_execution_id = f'{func.__name__} {start_time.strftime(\"%d-%m-%Y %H:%M:%S.%f\")}'\n",
        "        pickle_file_name = f'{SAVE_FOLDER}/{function_execution_id}.pickle'\n",
        "\n",
        "        # save all of the function input data to pickle file\n",
        "        with open(pickle_file_name, \"wb\") as f:\n",
        "          pickle.dump({'args':args,\n",
        "                       'kwargs':kwargs,\n",
        "                       'function_name':func.__name__}, f)\n",
        "\n",
        "        # calculate how long the pickling took (just in case it's too much overhead)\n",
        "        end_time = datetime.datetime.now()\n",
        "        elapsed_time = (end_time - start_time).total_seconds()\n",
        "\n",
        "        print(f\"🥒 Pickle logged {pickle_file_name} in {elapsed_time} seconds 🪵\")\n",
        "\n",
        "        # run function as normal\n",
        "        output = func(*args, **kwargs)\n",
        "        return output\n",
        "\n",
        "    return wrapper\n",
        "\n",
        "\n",
        "def reheat_pickle_log(pickle_capture_file_name, function):\n",
        "  \"\"\"Reheats a pickled function log.\n",
        "\n",
        "  Args:\n",
        "    pickle_capture_file_name: The name of the pickled function log file.\n",
        "    function: The function whose log should be reheated.\n",
        "\n",
        "  Returns:\n",
        "    None.\n",
        "  \"\"\"\n",
        "\n",
        "  print('🔥 Reheating pickle log 🥒 ')\n",
        "\n",
        "  # get data from pickled log\n",
        "  with open(pickle_capture_file_name, \"rb\") as f:\n",
        "    pickle_data = pickle.load(f)\n",
        "\n",
        "  args = pickle_data.get('args')\n",
        "  kwargs = pickle_data.get('kwargs')\n",
        "\n",
        "  # run function without Pickle Logging it again\n",
        "  function_without_decorator = function.__wrapped__\n",
        "  return function_without_decorator(*args, **kwargs)\n",
        "\n",
        "\n",
        "import json\n",
        "\n",
        "def generate_test(pickle_capture_file_name, function):\n",
        "  \"\"\"Generates a test code for a pickled function log.\n",
        "  Only good when the outputs are simple, otherwise good for template test.\n",
        "\n",
        "  Args:\n",
        "    pickle_capture_file_name: The name of the pickled function log file.\n",
        "    function: The function whose log should be used to generate the test code.\n",
        "  Returns:\n",
        "    None.\n",
        "  \"\"\"\n",
        "\n",
        "  print('🧪 Generating test code 🥒 ')\n",
        "\n",
        "  # get data from pickled log\n",
        "  with open(pickle_capture_file_name, \"rb\") as f:\n",
        "    pickle_data = pickle.load(f)\n",
        "\n",
        "  function_name = pickle_data.get('function_name')\n",
        "  function_output = reheat_pickle_log(pickle_capture_file_name, function)\n",
        "  # print out the code template\n",
        "  print('----generated test below----\\n')\n",
        "  print(f'def test_{function_name}_{random_id(5)}():')\n",
        "  print(f'  pickle_capture_file_name = \"{pickle_capture_file_name}\"')\n",
        "  print(f'  function_output = reheat_pickle_log(pickle_capture_file_name, {function_name})')\n",
        "  print(f'  assert function_output == {json.dumps(function_output)}')\n",
        "\n",
        "\n",
        "import random\n",
        "import string\n",
        "\n",
        "def random_id(n):\n",
        "  \"\"\"Generates a random ID of length `n`.\n",
        "\n",
        "  Args:\n",
        "    n: The length of the random ID.\n",
        "\n",
        "  Returns:\n",
        "    A random ID of length `n`.\n",
        "  \"\"\"\n",
        "  chars = string.ascii_uppercase + string.digits\n",
        "  return ''.join(random.SystemRandom().choice(chars) for _ in range(n))\n",
        "\n"
      ],
      "metadata": {
        "id": "xh4Qs-ybvkDZ"
      },
      "execution_count": 1,
      "outputs": []
    },
    {
      "cell_type": "code",
      "source": [
        "@pickle_log\n",
        "def my_function_pickled(name, hobbies, num=1):\n",
        "  print(f'hello {name}')\n",
        "\n",
        "  if type(hobbies) in {int, float}:\n",
        "    print('sorry that a number')\n",
        "    return {'ghg':9}\n",
        "\n",
        "  for h in hobbies:\n",
        "    print(f'you like {h}')\n",
        "  return num *4\n",
        "\n",
        "# my_function_pickled(name='zack', hobbies=['rugby', 'skating', 'dancing'])\n",
        "# my_function_pickled('zack', ['rugby', 'skating', 'dancing'])"
      ],
      "metadata": {
        "id": "mUIZv61rw1M_"
      },
      "execution_count": 2,
      "outputs": []
    },
    {
      "cell_type": "code",
      "source": [
        "my_function_pickled('sara', hobbies = .6, num=9)"
      ],
      "metadata": {
        "colab": {
          "base_uri": "https://localhost:8080/"
        },
        "id": "p1-3M6h30opg",
        "outputId": "43526904-2c4f-4f37-bdae-54f0ba2b6699"
      },
      "execution_count": 3,
      "outputs": [
        {
          "output_type": "stream",
          "name": "stdout",
          "text": [
            "🥒 Pickle logged pickle_capture/my_function_pickled 11-11-2023 21:07:09.178850.pickle in 0.00118 seconds 🪵\n",
            "hello sara\n",
            "sorry that a number\n"
          ]
        },
        {
          "output_type": "execute_result",
          "data": {
            "text/plain": [
              "{'ghg': 9}"
            ]
          },
          "metadata": {},
          "execution_count": 3
        }
      ]
    },
    {
      "cell_type": "code",
      "source": [
        "pickle_capture_file_name = '/content/pickle_capture/my_function_pickled 11-11-2023 20:53:38.304026.pickle'\n",
        "reheat_pickle_log(pickle_capture_file_name, my_function_pickled)"
      ],
      "metadata": {
        "colab": {
          "base_uri": "https://localhost:8080/"
        },
        "id": "zmAsDyoSw6Jo",
        "outputId": "5473e0f1-7d6c-420f-a560-6184b343a5b7"
      },
      "execution_count": 4,
      "outputs": [
        {
          "output_type": "stream",
          "name": "stdout",
          "text": [
            "🔥 Reheating pickle log 🥒 \n",
            "hello sara\n",
            "sorry that a number\n"
          ]
        },
        {
          "output_type": "execute_result",
          "data": {
            "text/plain": [
              "{'ghg': 9}"
            ]
          },
          "metadata": {},
          "execution_count": 4
        }
      ]
    },
    {
      "cell_type": "code",
      "source": [
        "generate_test(pickle_capture_file_name, my_function_pickled)"
      ],
      "metadata": {
        "colab": {
          "base_uri": "https://localhost:8080/"
        },
        "id": "rEp66_W_JhAY",
        "outputId": "76ed7206-0304-4051-cc1e-1acd1182b814"
      },
      "execution_count": 6,
      "outputs": [
        {
          "output_type": "stream",
          "name": "stdout",
          "text": [
            "🧪 Generating test code 🥒 \n",
            "🔥 Reheating pickle log 🥒 \n",
            "hello sara\n",
            "sorry that a number\n",
            "----generated test below----\n",
            "\n",
            "def test_my_function_pickled_XTUNX():\n",
            "  pickle_capture_file_name = \"/content/pickle_capture/my_function_pickled 11-11-2023 20:53:38.304026.pickle\"\n",
            "  function_output = reheat_pickle_log(pickle_capture_file_name, my_function_pickled)\n",
            "  assert function_output == {\"ghg\": 9}\n"
          ]
        }
      ]
    },
    {
      "cell_type": "code",
      "source": [
        "def test_my_function_pickled_XTUNX():\n",
        "  pickle_capture_file_name = \"/content/pickle_capture/my_function_pickled 11-11-2023 20:53:38.304026.pickle\"\n",
        "  function_output = reheat_pickle_log(pickle_capture_file_name, my_function_pickled)\n",
        "  assert function_output == {\"ghg\": 9}"
      ],
      "metadata": {
        "id": "XvdFpC7GLmja"
      },
      "execution_count": 7,
      "outputs": []
    },
    {
      "cell_type": "code",
      "source": [
        "# ! rm pickle_capture/*"
      ],
      "metadata": {
        "id": "WjqQoSC40lOl"
      },
      "execution_count": null,
      "outputs": []
    }
  ]
}