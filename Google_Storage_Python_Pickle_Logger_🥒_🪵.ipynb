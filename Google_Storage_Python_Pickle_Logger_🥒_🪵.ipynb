{
  "nbformat": 4,
  "nbformat_minor": 0,
  "metadata": {
    "colab": {
      "provenance": [],
      "authorship_tag": "ABX9TyPt6YWJHHEu4oKK0+sN2ilq",
      "include_colab_link": true
    },
    "kernelspec": {
      "name": "python3",
      "display_name": "Python 3"
    },
    "language_info": {
      "name": "python"
    }
  },
  "cells": [
    {
      "cell_type": "markdown",
      "metadata": {
        "id": "view-in-github",
        "colab_type": "text"
      },
      "source": [
        "<a href=\"https://colab.research.google.com/github/ZackAkil/python-pickle-logger/blob/main/Google_Storage_Python_Pickle_Logger_%F0%9F%A5%92_%F0%9F%AA%B5.ipynb\" target=\"_parent\"><img src=\"https://colab.research.google.com/assets/colab-badge.svg\" alt=\"Open In Colab\"/></a>"
      ]
    },
    {
      "cell_type": "code",
      "source": [
        "from google.colab import auth\n",
        "auth.authenticate_user()"
      ],
      "metadata": {
        "id": "XNR69myDWIsV"
      },
      "execution_count": 1,
      "outputs": []
    },
    {
      "cell_type": "code",
      "source": [
        "%%writefile pickle_logs_config.json\n",
        "{\"google_storage_bucket\":\"apsx-pickle-logs\", \"google_storage_folder\":\"test\"}"
      ],
      "metadata": {
        "colab": {
          "base_uri": "https://localhost:8080/"
        },
        "id": "oMeELp2WT66g",
        "outputId": "a6d1bbc0-a939-43bc-b067-958c2b0139a4"
      },
      "execution_count": 2,
      "outputs": [
        {
          "output_type": "stream",
          "name": "stdout",
          "text": [
            "Overwriting pickle_logs_config.json\n"
          ]
        }
      ]
    },
    {
      "cell_type": "code",
      "source": [
        "%%writefile t.py\n",
        "print(__file__)"
      ],
      "metadata": {
        "colab": {
          "base_uri": "https://localhost:8080/"
        },
        "id": "dMPHXMJCX2-F",
        "outputId": "cd82ceec-ba69-4cfb-be21-7f3b3475bb4e"
      },
      "execution_count": 3,
      "outputs": [
        {
          "output_type": "stream",
          "name": "stdout",
          "text": [
            "Overwriting t.py\n"
          ]
        }
      ]
    },
    {
      "cell_type": "code",
      "source": [
        "!python t.py"
      ],
      "metadata": {
        "colab": {
          "base_uri": "https://localhost:8080/"
        },
        "id": "M52AczP9YOxd",
        "outputId": "fa93341d-98e8-4e06-ddf9-852b18d046cf"
      },
      "execution_count": 4,
      "outputs": [
        {
          "output_type": "stream",
          "name": "stdout",
          "text": [
            "/content/t.py\n"
          ]
        }
      ]
    },
    {
      "cell_type": "code",
      "source": [
        "import os\n",
        "import datetime\n",
        "import pickle\n",
        "\n",
        "from functools import wraps\n",
        "\n",
        "import json\n",
        "\n",
        "with open(\"pickle_logs_config.json\", \"r\") as f:\n",
        "    json_data = json.load(f)\n",
        "    google_storage_bucket = json_data.get('google_storage_bucket')\n",
        "    google_storage_folder = json_data.get('google_storage_folder')\n",
        "\n",
        "\n",
        "\n",
        "def pickle_log(func):\n",
        "\n",
        "    \"\"\"Pickle logs a function call.\n",
        "\n",
        "    This decorator pickles the function's arguments and keyword arguments to a file.\n",
        "    This can be useful for debugging and generating tests.\n",
        "\n",
        "    Args:\n",
        "      func: The function to decorate.\n",
        "\n",
        "    Returns:\n",
        "      A decorated function that pickles its arguments and keyword arguments to a file before calling the original function.\n",
        "    \"\"\"\n",
        "\n",
        "    @wraps(func)\n",
        "    def wrapper(*args, **kwargs):\n",
        "\n",
        "        start_time = datetime.datetime.now()\n",
        "        # create the id of pickle log\n",
        "\n",
        "        function_execution_id = f'{func.__name__} {start_time.strftime(\"%d-%m-%Y %H:%M:%S.%f\")}'\n",
        "        pickle_file_name = f'{function_execution_id}.pickle'\n",
        "\n",
        "        # save all of the function input data to pickle file\n",
        "\n",
        "        with tempfile.NamedTemporaryFile(delete=False) as f:\n",
        "          pickle.dump({'args':args,\n",
        "                       'kwargs':kwargs,\n",
        "                       'function_name':func.__name__}, f)\n",
        "\n",
        "        # upload to cloud bucket\n",
        "        gs_location = f'{google_storage_bucket}/{google_storage_folder}/{pickle_file_name}'\n",
        "        upload_to_gcs(local_filename=f.name, gs_location=gs_location)\n",
        "\n",
        "        # remove local pickle\n",
        "        os.remove(f.name)\n",
        "\n",
        "        # calculate how long the pickling took (just in case it's too much overhead)\n",
        "        end_time = datetime.datetime.now()\n",
        "        elapsed_time = (end_time - start_time).total_seconds()\n",
        "\n",
        "        print(f\"🥒 Pickle logged {pickle_file_name} in {elapsed_time} seconds 🪵\")\n",
        "\n",
        "        # run function as normal\n",
        "        output = func(*args, **kwargs)\n",
        "        return output\n",
        "\n",
        "    return wrapper\n",
        "\n",
        "\n",
        "def reheat_pickle_log(pickle_capture_file_name, function):\n",
        "  \"\"\"Reheats a pickled function log.\n",
        "\n",
        "  Args:\n",
        "    pickle_capture_file_name: The name of the pickled function log file.\n",
        "    function: The function whose log should be reheated.\n",
        "\n",
        "  Returns:\n",
        "    None.\n",
        "  \"\"\"\n",
        "\n",
        "  print('🔥 Reheating pickle log 🥒 ')\n",
        "\n",
        "  # get data from pickled log\n",
        "  with open(pickle_capture_file_name, \"rb\") as f:\n",
        "    pickle_data = pickle.load(f)\n",
        "\n",
        "  args = pickle_data.get('args')\n",
        "  kwargs = pickle_data.get('kwargs')\n",
        "\n",
        "  # run function without Pickle Logging it again\n",
        "  function_without_decorator = function.__wrapped__\n",
        "  return function_without_decorator(*args, **kwargs)\n",
        "\n",
        "\n",
        "import json\n",
        "\n",
        "def generate_test(pickle_capture_file_name, function):\n",
        "  \"\"\"Generates a test code for a pickled function log.\n",
        "  Only good when the outputs are simple, otherwise good for template test.\n",
        "\n",
        "  Args:\n",
        "    pickle_capture_file_name: The name of the pickled function log file.\n",
        "    function: The function whose log should be used to generate the test code.\n",
        "  Returns:\n",
        "    None.\n",
        "  \"\"\"\n",
        "\n",
        "  print('🧪 Generating test code 🥒 ')\n",
        "\n",
        "  # get data from pickled log\n",
        "  with open(pickle_capture_file_name, \"rb\") as f:\n",
        "    pickle_data = pickle.load(f)\n",
        "\n",
        "  function_name = pickle_data.get('function_name')\n",
        "  function_output = reheat_pickle_log(pickle_capture_file_name, function)\n",
        "  # print out the code template\n",
        "  print('----generated test below----\\n')\n",
        "  print(f'def test_{function_name}_{random_id(5)}():')\n",
        "  print(f'  pickle_capture_file_name = \"{pickle_capture_file_name}\"')\n",
        "  print(f'  function_output = reheat_pickle_log(pickle_capture_file_name, {function_name})')\n",
        "  print(f'  assert function_output == {json.dumps(function_output)}')\n",
        "\n",
        "\n",
        "import random\n",
        "import string\n",
        "\n",
        "def random_id(n):\n",
        "  \"\"\"Generates a random ID of length `n`.\n",
        "\n",
        "  Args:\n",
        "    n: The length of the random ID.\n",
        "\n",
        "  Returns:\n",
        "    A random ID of length `n`.\n",
        "  \"\"\"\n",
        "  chars = string.ascii_uppercase + string.digits\n",
        "  return ''.join(random.SystemRandom().choice(chars) for _ in range(n))\n",
        "\n",
        "\n",
        "\n",
        "# pip install google-cloud-storage\n",
        "\n",
        "import tempfile\n",
        "from google.cloud import storage\n",
        "\n",
        "def upload_to_gcs(local_filename:str, gs_location:str) -> None:\n",
        "    \"\"\"Uploads a file to a Google Storage bucket.\n",
        "    \"\"\"\n",
        "    bucket_name, blob_name = gs_location.replace('gs://', '').split('/', 1)\n",
        "\n",
        "    print(f'⬆️ Uploadting {local_filename} to bucket 🪣:{bucket_name}, blob {blob_name} ...')\n",
        "\n",
        "    client = storage.Client()\n",
        "    bucket = client.bucket(bucket_name)\n",
        "    blob = bucket.blob(blob_name)\n",
        "    blob.upload_from_filename(local_filename)\n",
        "    print(f'✅ Uploaded {local_filename} to bucket:{bucket_name}, blob {blob_name}')\n",
        "\n",
        "\n",
        "def download_from_gcs(gs_location:str) -> str:\n",
        "    \"\"\"Loads a file from Google Storage.\n",
        "    \"\"\"\n",
        "    print(f'⬇️ Downloading file :{gs_location}...')\n",
        "\n",
        "    bucket_name, blob_name = gs_location.replace('gs://', '').split('/', 1)\n",
        "\n",
        "    client = storage.Client()\n",
        "    bucket = client.bucket(bucket_name)\n",
        "    blob = bucket.blob(blob_name)\n",
        "\n",
        "    with tempfile.NamedTemporaryFile(delete=False) as temp:\n",
        "        blob.download_to_file(temp)\n",
        "    print(f'✅ Downloaded file :{gs_location}')\n",
        "    return temp.name\n",
        "\n"
      ],
      "metadata": {
        "id": "xh4Qs-ybvkDZ"
      },
      "execution_count": 5,
      "outputs": []
    },
    {
      "cell_type": "code",
      "source": [
        "@pickle_log\n",
        "def my_function_pickled(name, hobbies, num=1):\n",
        "  print(f'hello {name}')\n",
        "\n",
        "  if type(hobbies) in {int, float}:\n",
        "    print('sorry that a number')\n",
        "    return {'ghg':9}\n",
        "\n",
        "  for h in hobbies:\n",
        "    print(f'you like {h}')\n",
        "  return num *4\n",
        "\n",
        "# my_function_pickled(name='zack', hobbies=['rugby', 'skating', 'dancing'])\n",
        "# my_function_pickled('zack', ['rugby', 'skating', 'dancing'])"
      ],
      "metadata": {
        "id": "mUIZv61rw1M_"
      },
      "execution_count": 6,
      "outputs": []
    },
    {
      "cell_type": "code",
      "source": [
        "my_function_pickled('sara', hobbies = .6, num=9)"
      ],
      "metadata": {
        "colab": {
          "base_uri": "https://localhost:8080/"
        },
        "id": "p1-3M6h30opg",
        "outputId": "e5c28753-d7ff-47c4-d51d-a9ff772748dc"
      },
      "execution_count": 7,
      "outputs": [
        {
          "output_type": "stream",
          "name": "stdout",
          "text": [
            "⬆️ Uploadting /tmp/tmp28sa3amn to bucket 🪣:apsx-pickle-logs, blob test/my_function_pickled 11-11-2023 22:12:47.189854.pickle ...\n",
            "✅ Uploaded /tmp/tmp28sa3amn to bucket:apsx-pickle-logs, blob test/my_function_pickled 11-11-2023 22:12:47.189854.pickle\n",
            "🥒 Pickle logged my_function_pickled 11-11-2023 22:12:47.189854.pickle in 1.2071 seconds 🪵\n",
            "hello sara\n",
            "sorry that a number\n"
          ]
        },
        {
          "output_type": "execute_result",
          "data": {
            "text/plain": [
              "{'ghg': 9}"
            ]
          },
          "metadata": {},
          "execution_count": 7
        }
      ]
    },
    {
      "cell_type": "code",
      "source": [
        "downloaded_pickle = download_from_gcs('apsx-pickle-logs/test/my_function_pickled 11-11-2023 22:10:33.177779.pickle')"
      ],
      "metadata": {
        "colab": {
          "base_uri": "https://localhost:8080/"
        },
        "id": "YWo5GEcOZDPW",
        "outputId": "ea0a816e-2c60-44bb-b774-13f1b1b96e58"
      },
      "execution_count": 8,
      "outputs": [
        {
          "output_type": "stream",
          "name": "stdout",
          "text": [
            "⬇️ Downloading file :apsx-pickle-logs/test/my_function_pickled 11-11-2023 22:10:33.177779.pickle...\n",
            "✅ Downloaded file :apsx-pickle-logs/test/my_function_pickled 11-11-2023 22:10:33.177779.pickle\n"
          ]
        }
      ]
    },
    {
      "cell_type": "code",
      "source": [
        "downloaded_pickle"
      ],
      "metadata": {
        "colab": {
          "base_uri": "https://localhost:8080/",
          "height": 36
        },
        "id": "22qAAlmeZOij",
        "outputId": "887fa77c-b747-43c7-c89a-bbae2e6599f9"
      },
      "execution_count": 9,
      "outputs": [
        {
          "output_type": "execute_result",
          "data": {
            "text/plain": [
              "'/tmp/tmp37xdqh15'"
            ],
            "application/vnd.google.colaboratory.intrinsic+json": {
              "type": "string"
            }
          },
          "metadata": {},
          "execution_count": 9
        }
      ]
    },
    {
      "cell_type": "code",
      "source": [
        "reheat_pickle_log(downloaded_pickle, my_function_pickled)"
      ],
      "metadata": {
        "colab": {
          "base_uri": "https://localhost:8080/"
        },
        "id": "zmAsDyoSw6Jo",
        "outputId": "6380c887-0179-4665-c08f-993ac2c8e1e9"
      },
      "execution_count": 10,
      "outputs": [
        {
          "output_type": "stream",
          "name": "stdout",
          "text": [
            "🔥 Reheating pickle log 🥒 \n",
            "hello sara\n",
            "sorry that a number\n"
          ]
        },
        {
          "output_type": "execute_result",
          "data": {
            "text/plain": [
              "{'ghg': 9}"
            ]
          },
          "metadata": {},
          "execution_count": 10
        }
      ]
    },
    {
      "cell_type": "code",
      "source": [
        "generate_test(downloaded_pickle, my_function_pickled)"
      ],
      "metadata": {
        "colab": {
          "base_uri": "https://localhost:8080/"
        },
        "id": "rEp66_W_JhAY",
        "outputId": "b7837df1-7f78-4e29-a97c-5c845e15436d"
      },
      "execution_count": 11,
      "outputs": [
        {
          "output_type": "stream",
          "name": "stdout",
          "text": [
            "🧪 Generating test code 🥒 \n",
            "🔥 Reheating pickle log 🥒 \n",
            "hello sara\n",
            "sorry that a number\n",
            "----generated test below----\n",
            "\n",
            "def test_my_function_pickled_FQ148():\n",
            "  pickle_capture_file_name = \"/tmp/tmp37xdqh15\"\n",
            "  function_output = reheat_pickle_log(pickle_capture_file_name, my_function_pickled)\n",
            "  assert function_output == {\"ghg\": 9}\n"
          ]
        }
      ]
    },
    {
      "cell_type": "code",
      "source": [
        "def test_my_function_pickled_INQVZ():\n",
        "  pickle_capture_file_name = \"/tmp/tmp8z9j0lt7\"\n",
        "  function_output = reheat_pickle_log(pickle_capture_file_name, my_function_pickled)\n",
        "  assert function_output == {\"ghg\": 9}"
      ],
      "metadata": {
        "id": "XvdFpC7GLmja"
      },
      "execution_count": 12,
      "outputs": []
    },
    {
      "cell_type": "code",
      "source": [
        "# ! rm pickle_capture/*"
      ],
      "metadata": {
        "id": "WjqQoSC40lOl"
      },
      "execution_count": 13,
      "outputs": []
    }
  ]
}